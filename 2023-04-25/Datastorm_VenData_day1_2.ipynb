{
  "nbformat": 4,
  "nbformat_minor": 0,
  "metadata": {
    "colab": {
      "provenance": []
    },
    "kernelspec": {
      "name": "python3",
      "display_name": "Python 3"
    },
    "language_info": {
      "name": "python"
    }
  },
  "cells": [
    {
      "cell_type": "code",
      "execution_count": 1,
      "metadata": {
        "colab": {
          "base_uri": "https://localhost:8080/"
        },
        "id": "_sRT1pXllu9O",
        "outputId": "28e0e0a7-4c46-4028-aec5-c6beb06af0e7"
      },
      "outputs": [
        {
          "output_type": "stream",
          "name": "stdout",
          "text": [
            "Looking in indexes: https://pypi.org/simple, https://us-python.pkg.dev/colab-wheels/public/simple/\n",
            "Requirement already satisfied: kaggle in /usr/local/lib/python3.9/dist-packages (1.5.13)\n",
            "Requirement already satisfied: python-dateutil in /usr/local/lib/python3.9/dist-packages (from kaggle) (2.8.2)\n",
            "Requirement already satisfied: urllib3 in /usr/local/lib/python3.9/dist-packages (from kaggle) (1.26.15)\n",
            "Requirement already satisfied: python-slugify in /usr/local/lib/python3.9/dist-packages (from kaggle) (8.0.1)\n",
            "Requirement already satisfied: certifi in /usr/local/lib/python3.9/dist-packages (from kaggle) (2022.12.7)\n",
            "Requirement already satisfied: six>=1.10 in /usr/local/lib/python3.9/dist-packages (from kaggle) (1.16.0)\n",
            "Requirement already satisfied: requests in /usr/local/lib/python3.9/dist-packages (from kaggle) (2.27.1)\n",
            "Requirement already satisfied: tqdm in /usr/local/lib/python3.9/dist-packages (from kaggle) (4.65.0)\n",
            "Requirement already satisfied: text-unidecode>=1.3 in /usr/local/lib/python3.9/dist-packages (from python-slugify->kaggle) (1.3)\n",
            "Requirement already satisfied: idna<4,>=2.5 in /usr/local/lib/python3.9/dist-packages (from requests->kaggle) (3.4)\n",
            "Requirement already satisfied: charset-normalizer~=2.0.0 in /usr/local/lib/python3.9/dist-packages (from requests->kaggle) (2.0.12)\n"
          ]
        }
      ],
      "source": [
        "!pip install kaggle"
      ]
    },
    {
      "cell_type": "code",
      "source": [
        "! mkdir ~/.kaggle\n",
        "\n",
        "import json\n",
        "kaggle_token = {\"username\":\"datastorm087\",\"key\":\"f96ada8acdc2ce1a66d19c772cb2e9fc\"}\n",
        "with open(\"kaggle.json\", \"w\") as f:\n",
        "  token_json = json.dumps(kaggle_token)\n",
        "  f.write(token_json)\n",
        "\n",
        "! cp kaggle.json ~/.kaggle/\n",
        "! chmod 600 ~/.kaggle/kaggle.json"
      ],
      "metadata": {
        "id": "_jB4lLhUmLEM"
      },
      "execution_count": 2,
      "outputs": []
    },
    {
      "cell_type": "code",
      "source": [
        "! kaggle competitions download -c data-storm-4"
      ],
      "metadata": {
        "colab": {
          "base_uri": "https://localhost:8080/"
        },
        "id": "K2ZNDjX-nGGZ",
        "outputId": "f0b653bc-fe3e-4d88-e713-b517aa6b161b"
      },
      "execution_count": 3,
      "outputs": [
        {
          "output_type": "stream",
          "name": "stdout",
          "text": [
            "Downloading data-storm-4.zip to /content\n",
            "\r  0% 0.00/5.77M [00:00<?, ?B/s]\n",
            "\r100% 5.77M/5.77M [00:00<00:00, 157MB/s]\n"
          ]
        }
      ]
    },
    {
      "cell_type": "code",
      "source": [
        "! unzip data-storm-4.zip"
      ],
      "metadata": {
        "colab": {
          "base_uri": "https://localhost:8080/"
        },
        "id": "VfE5kd0BnLz0",
        "outputId": "d6ee691d-7da4-4a48-93a4-7ee4257ef026"
      },
      "execution_count": 4,
      "outputs": [
        {
          "output_type": "stream",
          "name": "stdout",
          "text": [
            "Archive:  data-storm-4.zip\n",
            "  inflating: Data-dictionary.xlsx    \n",
            "  inflating: DataStorm4.0_KaggleProblemStatement.pdf  \n",
            "  inflating: Historical-transaction-data.csv  \n",
            "  inflating: Store-info.csv          \n",
            "  inflating: Testing-data.csv        \n"
          ]
        }
      ]
    },
    {
      "cell_type": "code",
      "source": [
        "import pandas as pd\n",
        "import matplotlib.pyplot as plt\n",
        "import numpy as np\n",
        "\n",
        "store_info_data = pd.read_csv('Store-info.csv')\n",
        "historical_data = pd.read_csv('Historical-transaction-data.csv')\n",
        "testing_data = pd.read_csv('Testing-data.csv')\n",
        "\n",
        "print(store_info_data.head())\n",
        "print(historical_data.head())\n",
        "print(testing_data.head())"
      ],
      "metadata": {
        "colab": {
          "base_uri": "https://localhost:8080/"
        },
        "id": "FqFHxPxMp2tC",
        "outputId": "425ae533-4c76-4a39-8fed-cfea2331d82f"
      },
      "execution_count": 5,
      "outputs": [
        {
          "output_type": "stream",
          "name": "stdout",
          "text": [
            "   shop_id  shop_area_sq_ft shop_profile\n",
            "0  SHOP047              528     Moderate\n",
            "1  SHOP009              676         High\n",
            "2  SHOP083              676          Low\n",
            "3  SHOP117              676          Low\n",
            "4  SHOP042              676          Low\n",
            "        item_description          transaction_date  invoice_id customer_id  \\\n",
            "0     ORANGE BARLEY 1.5L  2021-12-11T00:00:00.000Z       147.0        BGXA   \n",
            "1       GINGER BEER 1.5L  2021-10-17T00:00:00.000Z       371.0        IA25   \n",
            "2        TONIC PET 500ML  2021-12-13T00:00:00.000Z       484.0        VN7V   \n",
            "3          CREAM SODA 1L  2021-12-13T00:00:00.000Z       484.0        VN7V   \n",
            "4  STRAWBERRY MILK 180ML  2021-10-23T00:00:00.000Z      1310.0        7S00   \n",
            "\n",
            "   shop_id  item_price  quantity_sold  \n",
            "0  SHOP008         220              2  \n",
            "1  SHOP112         220              2  \n",
            "2  SHOP008         160              2  \n",
            "3  SHOP008         150              2  \n",
            "4  SHOP112         210              5  \n",
            "   shop_id  shop_profile\n",
            "0  SHOP046           NaN\n",
            "1  SHOP024           NaN\n",
            "2  SHOP023           NaN\n",
            "3  SHOP097           NaN\n",
            "4  SHOP044           NaN\n"
          ]
        }
      ]
    },
    {
      "cell_type": "code",
      "source": [
        "historical_data['transaction_date'] = pd.to_datetime(historical_data['transaction_date']).dt.date"
      ],
      "metadata": {
        "id": "VAPgSFW34By3"
      },
      "execution_count": 6,
      "outputs": []
    },
    {
      "cell_type": "code",
      "source": [
        "# Convert transaction_date column to datetime format\n",
        "historical_data['transaction_date'] = pd.to_datetime(historical_data['transaction_date'])\n",
        "\n",
        "# Group the data by shop_id and get the date range for each group\n",
        "date_range = historical_data.groupby('shop_id')['transaction_date'].agg(['min', 'max'])\n",
        "\n",
        "# Print the date range for each shop\n",
        "print(date_range)\n",
        "\n",
        "print()\n",
        "\n",
        "# Group the data by date range for each shop and get the count of transactions\n",
        "grouped_data = date_range.groupby(['min', 'max']).size().reset_index(name='count')\n",
        "\n",
        "# Print the grouped data\n",
        "print(grouped_data)"
      ],
      "metadata": {
        "colab": {
          "base_uri": "https://localhost:8080/"
        },
        "id": "a6f0IToR1Ydd",
        "outputId": "09adfb42-8253-43d4-81e8-d6a728f89031"
      },
      "execution_count": 7,
      "outputs": [
        {
          "output_type": "stream",
          "name": "stdout",
          "text": [
            "               min        max\n",
            "shop_id                      \n",
            "SHOP001 2021-10-15 2021-12-15\n",
            "SHOP002 2021-10-15 2021-12-15\n",
            "SHOP003 2021-10-15 2021-12-15\n",
            "SHOP004 2021-10-15 2021-12-15\n",
            "SHOP005 2021-10-15 2021-12-15\n",
            "...            ...        ...\n",
            "SHOP123 2021-10-15 2021-12-15\n",
            "SHOP124 2021-10-15 2021-12-15\n",
            "SHOP125 2021-10-15 2021-12-15\n",
            "SHOP126 2021-10-15 2021-12-15\n",
            "SHOP127 2021-10-15 2021-12-15\n",
            "\n",
            "[124 rows x 2 columns]\n",
            "\n",
            "         min        max  count\n",
            "0 2021-10-15 2021-12-15    121\n",
            "1 2021-10-16 2021-12-15      1\n",
            "2 2021-10-22 2021-12-15      1\n",
            "3 2021-12-10 2021-12-15      1\n"
          ]
        }
      ]
    },
    {
      "cell_type": "code",
      "source": [
        "unique_items = historical_data['item_description'].unique()\n",
        "for item in unique_items:\n",
        "    print(item)\n",
        "\n",
        "\n",
        "def remove_last_word(x):\n",
        "    if isinstance(x, str):  # check if x is a string\n",
        "        return ' '.join(x.split(' ')[:-1])\n",
        "    else:\n",
        "        return x\n",
        "\n",
        "historical_data['item_description'] = historical_data['item_description'].apply(remove_last_word)"
      ],
      "metadata": {
        "colab": {
          "base_uri": "https://localhost:8080/"
        },
        "id": "eA0U3VKKc_YG",
        "outputId": "2afa99e6-30a5-4bb0-a035-49086c810493"
      },
      "execution_count": 8,
      "outputs": [
        {
          "output_type": "stream",
          "name": "stdout",
          "text": [
            "ORANGE BARLEY 1.5L\n",
            "GINGER BEER 1.5L\n",
            "TONIC PET 500ML\n",
            "CREAM SODA 1L\n",
            "STRAWBERRY MILK 180ML\n",
            "CREAM SODA 1.5L\n",
            "TWISTEE APPLE 1L\n",
            "FIT O MIXED FRUIT 200ML\n",
            "SODA PET 1.5L\n",
            "FIT O MIXED FRUIT 1L\n",
            "KIK COLA 1L\n",
            "LEMONADE 500ML\n",
            "FIT O ORANGE 1L\n",
            "NECTO 1.5L\n",
            "LEMONADE 1.5L\n",
            "GINGER BEER 1L\n",
            "FIT O MANGO 200ML\n",
            "FIT O MANGO 1L\n",
            "CREAM SODA 500ML\n",
            "FIT O ORANGE 200ML\n",
            "nan\n",
            "CREAM SODA APPLE POP 1L\n",
            "BOTTLED DRINKING WATER 500ML\n",
            "SODA 500ML\n",
            "GINGER BEER 500ML\n",
            "SODA 1L\n",
            "NECTO 500ML\n",
            "ORANGE CRUSH 500ML\n",
            "BOTTLED DRINKING WATER 1.5L\n",
            "NECTO 1L\n",
            "GINGER BEER SUGAR FREE 500ML\n",
            "ORANGE CRUSH 1.5L\n",
            "DRY GINGER ALE PET 500ML\n",
            "LEMONADE 1L\n",
            "ORANGE CRUSH 1L\n",
            "GINGER BEER 400ML\n",
            "CHOCOLATE MILK 180ML\n",
            "LIME CRUSH JUICE 1L\n"
          ]
        }
      ]
    },
    {
      "cell_type": "markdown",
      "source": [
        "**Create New Features**"
      ],
      "metadata": {
        "id": "pxaptxaQ7oMB"
      }
    },
    {
      "cell_type": "markdown",
      "source": [
        "*   Unique Customers per Store\n",
        "*   Transactions per Store i.e. Unique Invoice Numbers per Store\n",
        "*   Unique Items per Store\n",
        "*   Items per Store\n",
        "*   Revenue per Store"
      ],
      "metadata": {
        "id": "3iOZCrZ6rPw3"
      }
    },
    {
      "cell_type": "code",
      "source": [
        "# Compute total number of unique customers\n",
        "unique_customers = historical_data.groupby(['shop_id'])['customer_id'].nunique()\n",
        "\n",
        "unique_customers = unique_customers.rename('unique_customers')\n",
        "\n",
        "store_info_data = store_info_data.merge(unique_customers, on='shop_id')"
      ],
      "metadata": {
        "id": "EJKr6bEY7s6p"
      },
      "execution_count": 9,
      "outputs": []
    },
    {
      "cell_type": "code",
      "source": [
        "# Compute total number of unique transactions\n",
        "transactions = historical_data.groupby(['shop_id'])['invoice_id'].nunique()\n",
        "\n",
        "transactions = transactions.rename('transactions')\n",
        "\n",
        "store_info_data = store_info_data.merge(transactions, on='shop_id')"
      ],
      "metadata": {
        "id": "xUABLOfh-to3"
      },
      "execution_count": 10,
      "outputs": []
    },
    {
      "cell_type": "code",
      "source": [
        "# Compute total number of unique items\n",
        "unique_items = historical_data.groupby('shop_id')['item_description'].nunique()\n",
        "\n",
        "unique_items = unique_items.rename('unique_items')\n",
        "\n",
        "store_info_data = store_info_data.merge(unique_items, on='shop_id')"
      ],
      "metadata": {
        "id": "GTdAoBfu_q8w"
      },
      "execution_count": 11,
      "outputs": []
    },
    {
      "cell_type": "code",
      "source": [
        "# Compute total number of items\n",
        "items = historical_data.groupby(['shop_id'])['quantity_sold'].sum()\n",
        "\n",
        "items = items.rename('items')\n",
        "\n",
        "store_info_data = store_info_data.merge(items, on='shop_id')"
      ],
      "metadata": {
        "id": "YD4PpX_QfZ2a"
      },
      "execution_count": 12,
      "outputs": []
    },
    {
      "cell_type": "code",
      "source": [
        "# Compute total revenue\n",
        "historical_data['revenue'] = historical_data['item_price'] * historical_data['quantity_sold']\n",
        "\n",
        "revenue = historical_data.groupby('shop_id')['revenue'].sum()\n",
        "\n",
        "revenue = revenue.rename('revenue')\n",
        "\n",
        "store_info_data = store_info_data.merge(revenue, on='shop_id')"
      ],
      "metadata": {
        "id": "dQymmBxSAQWS"
      },
      "execution_count": 13,
      "outputs": []
    },
    {
      "cell_type": "code",
      "source": [
        "# Compute max item_price\n",
        "max_item_price = historical_data.groupby('shop_id')['item_price'].max()\n",
        "\n",
        "max_item_price = max_item_price.rename('max_item_price')\n",
        "\n",
        "store_info_data = store_info_data.merge(max_item_price, on='shop_id')"
      ],
      "metadata": {
        "id": "BkBoMmOeuX4L"
      },
      "execution_count": 14,
      "outputs": []
    },
    {
      "cell_type": "code",
      "source": [
        "# Compute min item_price\n",
        "min_item_price = historical_data.groupby('shop_id')['item_price'].max()\n",
        "\n",
        "min_item_price = min_item_price.rename('min_item_price')\n",
        "\n",
        "store_info_data = store_info_data.merge(min_item_price, on='shop_id')"
      ],
      "metadata": {
        "id": "c_selRo7u2WB"
      },
      "execution_count": 15,
      "outputs": []
    },
    {
      "cell_type": "code",
      "source": [
        "# Compute max quantity_sold\n",
        "max_quantity_sold = historical_data.groupby('shop_id')['quantity_sold'].max()\n",
        "\n",
        "max_quantity_sold = max_quantity_sold.rename('max_quantity_sold')\n",
        "\n",
        "store_info_data = store_info_data.merge(max_quantity_sold, on='shop_id')"
      ],
      "metadata": {
        "id": "IcKD8A_Iu_lK"
      },
      "execution_count": 16,
      "outputs": []
    },
    {
      "cell_type": "code",
      "source": [
        "# Compute min quantity_sold\n",
        "min_quantity_sold = historical_data.groupby('shop_id')['quantity_sold'].max()\n",
        "\n",
        "min_quantity_sold = min_quantity_sold.rename('min_quantity_sold')\n",
        "\n",
        "store_info_data = store_info_data.merge(min_quantity_sold, on='shop_id')"
      ],
      "metadata": {
        "id": "YV5TOT1yvCEH"
      },
      "execution_count": 17,
      "outputs": []
    },
    {
      "cell_type": "code",
      "source": [
        "store_info_data[\"shop_profile\"] = store_info_data[\"shop_profile\"].replace({\"High\": 2, \"Moderate\": 1, \"Low\": 0})"
      ],
      "metadata": {
        "id": "6sYNFP8vFLo3"
      },
      "execution_count": 18,
      "outputs": []
    },
    {
      "cell_type": "code",
      "source": [
        "print(store_info_data.head())"
      ],
      "metadata": {
        "colab": {
          "base_uri": "https://localhost:8080/"
        },
        "id": "iX5Ji0LPiGVZ",
        "outputId": "276db8f3-c109-41fa-f3f5-9acd976afe9e"
      },
      "execution_count": 19,
      "outputs": [
        {
          "output_type": "stream",
          "name": "stdout",
          "text": [
            "   shop_id  shop_area_sq_ft  shop_profile  unique_customers  transactions  \\\n",
            "0  SHOP047              528           1.0               928          1302   \n",
            "1  SHOP009              676           2.0              2498          3493   \n",
            "2  SHOP083              676           0.0              1900          2718   \n",
            "3  SHOP117              676           0.0              2037          3158   \n",
            "4  SHOP042              676           0.0              1841          2495   \n",
            "\n",
            "   unique_items  items  revenue  max_item_price  min_item_price  \\\n",
            "0            19   3288   842960            2200            2200   \n",
            "1            19   8411  1970870            2610            2610   \n",
            "2            20   6644  1691985            3080            3080   \n",
            "3            19   8073  2325980            1600            1600   \n",
            "4            19   5844  1340215            2640            2640   \n",
            "\n",
            "   max_quantity_sold  min_quantity_sold  \n",
            "0                 22                 22  \n",
            "1                 28                 28  \n",
            "2                 24                 24  \n",
            "3                 25                 25  \n",
            "4                 25                 25  \n"
          ]
        }
      ]
    },
    {
      "cell_type": "code",
      "source": [
        "non_empty_profiles = store_info_data[~store_info_data['shop_profile'].isna()]\n",
        "empty_profiles = store_info_data[store_info_data['shop_profile'].isna()]\n",
        "\n",
        "# print(non_empty_profiles)\n",
        "# print(empty_profiles)"
      ],
      "metadata": {
        "id": "9uVeF-GaCSsc"
      },
      "execution_count": 20,
      "outputs": []
    },
    {
      "cell_type": "code",
      "source": [
        "X = non_empty_profiles.drop(columns=[\"shop_id\", \"shop_profile\"])\n",
        "y = non_empty_profiles[\"shop_profile\"]"
      ],
      "metadata": {
        "id": "syyMimXPE8EV"
      },
      "execution_count": 21,
      "outputs": []
    },
    {
      "cell_type": "code",
      "source": [
        "\n",
        "from sklearn.metrics import f1_score\n",
        "# Get the scores from various models\n",
        "def get_score (model, X_train, X_test, y_train, y_test):\n",
        "    model.fit(X_train,y_train)\n",
        "    y_pred_train = model.predict(X_train)\n",
        "    y_pred_test = model.predict(X_test)\n",
        "    return  f1_score(y_test,y_pred_test, average = 'micro')\n",
        "\n",
        "def get_score_train (model, X_train, X_test, y_train, y_test):\n",
        "    model.fit(X_train,y_train)\n",
        "    y_pred_train = model.predict(X_train)\n",
        "    y_pred_test = model.predict(X_test)\n",
        "    return  f1_score(y_train,y_pred_train, average = 'micro'), f1_score(y_test,y_pred_test, average = 'micro')"
      ],
      "metadata": {
        "id": "kV0mBXuB-1Gd"
      },
      "execution_count": 29,
      "outputs": []
    },
    {
      "cell_type": "code",
      "source": [
        "from sklearn.model_selection import StratifiedKFold\n",
        "from sklearn.linear_model import LogisticRegression\n",
        "from sklearn.neighbors import KNeighborsClassifier\n",
        "from sklearn.svm import SVC\n",
        "from sklearn.ensemble import RandomForestClassifier\n",
        "from sklearn.naive_bayes import GaussianNB\n",
        "\n",
        "scores_l = [0]\n",
        "scores_knn = [0]\n",
        "scores_svc = [0]\n",
        "scores_rfc = [0]\n",
        "scores_gnb = [0]\n",
        "\n",
        "splits=10\n",
        "\n",
        "kf = StratifiedKFold(n_splits=splits, shuffle=True, random_state=10)\n",
        "\n",
        "from sklearn.preprocessing import StandardScaler,RobustScaler\n",
        "\n",
        "def sub_lists (l):\n",
        "    lists = [[]]\n",
        "    for i in range(len(l) + 1):\n",
        "        for j in range(i):\n",
        "            lists.append(l[j: i])\n",
        "    return lists\n",
        " \n",
        "l1 = X.columns.to_list()\n",
        "combinations = sub_lists(l1)\n",
        "scores = []\n",
        "\n",
        "for combination in combinations:\n",
        "  if(len(combination)>0):\n",
        "      s1=0\n",
        "      s2=0\n",
        "      s3=0\n",
        "      for train_idx, test_idx in kf.split(X,y):\n",
        "          X_train, X_test, y_train, y_test = X[X.columns.intersection(combination)].iloc[train_idx], X[X.columns.intersection(combination)].iloc[test_idx], y.iloc[train_idx], y.iloc[test_idx]\n",
        "          s1 += get_score(LogisticRegression(max_iter = 1000), X_train, X_test, y_train, y_test)\n",
        "          \n",
        "          s2 += get_score(SVC(), X_train, X_test, y_train, y_test)\n",
        "          \n",
        "          s3 += get_score(GaussianNB(), X_train, X_test, y_train, y_test)\n",
        "          \n",
        "      scores_l.append(s1/splits)\n",
        "      scores_svc.append(s2/splits)\n",
        "      scores_gnb.append(s3/splits)\n",
        "      if(s1/splits > 0.66):\n",
        "        print(\"s1\", combination, s1/splits)\n",
        "      if(s2/splits > 0.66):\n",
        "        print(\"s2\", combination, s2/splits)\n",
        "      if(s3/splits > 0.66):\n",
        "        print(\"s3\", combination, s3/splits)\n",
        "      # for n in range(27,29):\n",
        "      \n",
        "      #   scores = 0\n",
        "      #   for train_idx, test_idx in kf.split(X,y):\n",
        "          \n",
        "      #     X_train, X_test, y_train, y_test = X[X.columns.intersection(combination)].iloc[train_idx], X[X.columns.intersection(combination)].iloc[test_idx], y.iloc[train_idx], y.iloc[test_idx]\n",
        "      #     scores += (get_score(RandomForestClassifier(n), X_train, X_test, y_train, y_test))\n",
        "\n",
        "      #     # scores += get_score(KNeighborsClassifier(n_neighbors=n), X_train, X_test, y_train, y_test)\n",
        "      #     # if(get_score(KNeighborsClassifier(n_neighbors=n), X_train, X_test, y_train, y_test) == 0.76):\n",
        "      #     #     print(combination, n)\n",
        "      #   scores_knn.append(scores/10)\n",
        "      #   if(round(scores*100) >= 66*10):\n",
        "      #     print(n, combination)\n",
        "      \n",
        "      \n",
        "\n",
        "print(\"Logistic Regression scores are: \", max(scores_l), \"\\n\")\n",
        "print(\"K Nearest Neighbours scores are: \", max(scores_knn), \"\\n\")\n",
        "print(\"Support Vector Machines scores are: \",max(scores_svc), \"\\n\")\n",
        "print(\"Random Forest Classifier scores are: \",max(scores_rfc), \"\\n\")\n",
        "print(\"Gaussian N B scores are: \",max(scores_gnb), \"\\n\")"
      ],
      "metadata": {
        "colab": {
          "base_uri": "https://localhost:8080/"
        },
        "id": "5gRkbWS5DygU",
        "outputId": "2e99e006-5a94-4a27-e0e0-bf18df6beab9"
      },
      "execution_count": 52,
      "outputs": [
        {
          "output_type": "stream",
          "name": "stdout",
          "text": [
            "s1 ['shop_area_sq_ft', 'unique_customers', 'transactions', 'unique_items', 'items'] 0.67\n",
            "Logistic Regression scores are:  0.67 \n",
            "\n",
            "K Nearest Neighbours scores are:  0 \n",
            "\n",
            "Support Vector Machines scores are:  0.5700000000000001 \n",
            "\n",
            "Random Forest Classifier scores are:  0 \n",
            "\n",
            "Gaussian N B scores are:  0.6399999999999999 \n",
            "\n"
          ]
        }
      ]
    },
    {
      "cell_type": "code",
      "source": [
        "final_scores = []\n",
        "splits = 5\n",
        "kf = StratifiedKFold(n_splits=splits, shuffle=True, random_state=10)\n",
        "for combination in combinations:\n",
        "  \n",
        "  if(len(combination)>3):\n",
        "    for n in [28]:\n",
        "      scores = 0\n",
        "      for train_idx, test_idx in kf.split(X,y):\n",
        "     \n",
        "      \n",
        "        X_train, X_test, y_train, y_test = X[X.columns.intersection(combination)].iloc[train_idx], X[X.columns.intersection(combination)].iloc[test_idx], y.iloc[train_idx], y.iloc[test_idx]\n",
        "        scores += (get_score(RandomForestClassifier(n), X_train, X_test, y_train, y_test))\n",
        "\n",
        "        final_scores.append(scores/splits)\n",
        "        if(round(scores*100) >= 63*splits):\n",
        "          print(n, combination)\n",
        "print(max(final_scores))\n"
      ],
      "metadata": {
        "colab": {
          "base_uri": "https://localhost:8080/"
        },
        "id": "W061xu-E_qCo",
        "outputId": "945594b2-b9c1-4f89-c73a-8600a6146eb0"
      },
      "execution_count": 23,
      "outputs": [
        {
          "output_type": "stream",
          "name": "stdout",
          "text": [
            "0.59\n"
          ]
        }
      ]
    },
    {
      "cell_type": "code",
      "source": [
        "final_scores = []\n",
        "splits = 5\n",
        "kf = StratifiedKFold(n_splits=splits, shuffle=True, random_state=10)\n",
        "for combination in combinations:\n",
        "  \n",
        "  if(len(combination)>3): \n",
        "    for n in range(2,50):\n",
        "      scores = 0\n",
        "      for train_idx, test_idx in kf.split(X,y):\n",
        "        \n",
        "        X_train, X_test, y_train, y_test = X[X.columns.intersection(combination)].iloc[train_idx], X[X.columns.intersection(combination)].iloc[test_idx], y.iloc[train_idx], y.iloc[test_idx]\n",
        "        scores += (get_score(KNeighborsClassifier(n_neighbors=n), X_train, X_test, y_train, y_test))\n",
        "\n",
        "        final_scores.append(scores/splits)\n",
        "        if(round(scores*100) >= 66*splits):\n",
        "          print(n, combination, scores/splits)\n",
        "print(max(final_scores))"
      ],
      "metadata": {
        "colab": {
          "base_uri": "https://localhost:8080/"
        },
        "id": "_aTvtf3qBvEm",
        "outputId": "ef188e5e-c90e-4ec8-c6a4-7dffe91ae286"
      },
      "execution_count": 24,
      "outputs": [
        {
          "output_type": "stream",
          "name": "stdout",
          "text": [
            "0.5900000000000001\n"
          ]
        }
      ]
    },
    {
      "cell_type": "code",
      "source": [
        "final_scores = []\n",
        "splits = 5\n",
        "kf = StratifiedKFold(n_splits=splits, shuffle=True, random_state=10)\n",
        "for combination in combinations:\n",
        "  if(len(combination)>3): \n",
        "    for n in range(1):\n",
        "      scores = 0\n",
        "      for train_idx, test_idx in kf.split(X,y):\n",
        "        \n",
        "        X_train, X_test, y_train, y_test = X[X.columns.intersection(combination)].iloc[train_idx], X[X.columns.intersection(combination)].iloc[test_idx], y.iloc[train_idx], y.iloc[test_idx]\n",
        "        scores += (get_score(GaussianNB(), X_train, X_test, y_train, y_test))\n",
        "\n",
        "        final_scores.append(scores/splits)\n",
        "        if(round(scores*100) >= 61*splits):\n",
        "          print(n, combination, scores/splits)\n",
        "print(max(final_scores))"
      ],
      "metadata": {
        "colab": {
          "base_uri": "https://localhost:8080/"
        },
        "id": "QTxYbtJRDrRW",
        "outputId": "8ecba0dd-b0a2-4073-b386-bb848d779e33"
      },
      "execution_count": 25,
      "outputs": [
        {
          "output_type": "stream",
          "name": "stdout",
          "text": [
            "0 ['shop_area_sq_ft', 'unique_customers', 'transactions', 'unique_items', 'items', 'revenue', 'max_item_price', 'min_item_price', 'max_quantity_sold', 'min_quantity_sold'] 0.61\n",
            "0.61\n"
          ]
        }
      ]
    },
    {
      "cell_type": "code",
      "source": [
        "final_scores = []\n",
        "splits = 5\n",
        "kf = StratifiedKFold(n_splits=splits, shuffle=True, random_state=10)\n",
        "for combination in combinations:\n",
        "  \n",
        "  if(len(combination)>3): \n",
        "    for n in range(1):\n",
        "      scores = 0\n",
        "      for train_idx, test_idx in kf.split(X,y):\n",
        "        \n",
        "        X_train, X_test, y_train, y_test = X[X.columns.intersection(combination)].iloc[train_idx], X[X.columns.intersection(combination)].iloc[test_idx], y.iloc[train_idx], y.iloc[test_idx]\n",
        "        scores += (get_score(SVC(), X_train, X_test, y_train, y_test))\n",
        "\n",
        "        final_scores.append(scores/splits)\n",
        "        if(round(scores*100) >= 61*splits):\n",
        "          print(n, combination, scores/splits)\n",
        "print(max(final_scores))"
      ],
      "metadata": {
        "colab": {
          "base_uri": "https://localhost:8080/"
        },
        "id": "znQTgx_GECqr",
        "outputId": "798f10be-4369-4127-ffd7-c9a8548d5f64"
      },
      "execution_count": 26,
      "outputs": [
        {
          "output_type": "stream",
          "name": "stdout",
          "text": [
            "0.53\n"
          ]
        }
      ]
    },
    {
      "cell_type": "code",
      "source": [
        "! pip install xgboost"
      ],
      "metadata": {
        "colab": {
          "base_uri": "https://localhost:8080/"
        },
        "id": "YlpiJie0Gn3C",
        "outputId": "88462b32-2a1e-4d57-afac-d675f0e2fe8e"
      },
      "execution_count": 27,
      "outputs": [
        {
          "output_type": "stream",
          "name": "stdout",
          "text": [
            "Looking in indexes: https://pypi.org/simple, https://us-python.pkg.dev/colab-wheels/public/simple/\n",
            "Requirement already satisfied: xgboost in /usr/local/lib/python3.9/dist-packages (1.7.5)\n",
            "Requirement already satisfied: numpy in /usr/local/lib/python3.9/dist-packages (from xgboost) (1.22.4)\n",
            "Requirement already satisfied: scipy in /usr/local/lib/python3.9/dist-packages (from xgboost) (1.10.1)\n"
          ]
        }
      ]
    },
    {
      "cell_type": "code",
      "source": [
        "import xgboost as xgb\n",
        "final_scores = []\n",
        "splits = 5\n",
        "kf = StratifiedKFold(n_splits=splits, shuffle=True, random_state=10)\n",
        "for combination in combinations:\n",
        "  \n",
        "  if(len(combination)>3): \n",
        "    for n in range(100, 300, 100):\n",
        "      scores = 0\n",
        "      for train_idx, test_idx in kf.split(X,y):\n",
        "        \n",
        "        X_train, X_test, y_train, y_test = X[X.columns.intersection(combination)].iloc[train_idx], X[X.columns.intersection(combination)].iloc[test_idx], y.iloc[train_idx], y.iloc[test_idx]\n",
        "        scores += (get_score(xgb.XGBClassifier(n_estimators=n, objective='multi:softprob', tree_method='hist', eta=0.1, max_depth=5), X_train, X_test, y_train, y_test))\n",
        "\n",
        "        final_scores.append(scores/splits)\n",
        "        if(round(scores*100) >= 61*splits):\n",
        "          print(n, combination, scores/splits)\n",
        "print(max(final_scores))"
      ],
      "metadata": {
        "colab": {
          "base_uri": "https://localhost:8080/"
        },
        "id": "i1gE2lD6GrMd",
        "outputId": "54fefdba-ae2e-4fce-d9a6-4254ec83ed77"
      },
      "execution_count": 28,
      "outputs": [
        {
          "output_type": "stream",
          "name": "stdout",
          "text": [
            "200 ['shop_area_sq_ft', 'unique_customers', 'transactions', 'unique_items', 'items'] 0.62\n",
            "0.62\n"
          ]
        }
      ]
    },
    {
      "cell_type": "code",
      "source": [
        "score_arr = []\n",
        "splits = 5\n",
        "kf = StratifiedKFold(n_splits=splits, shuffle=True, random_state=10)\n",
        "for train_idx, test_idx in kf.split(X,y):\n",
        "  X_train, X_test, y_train, y_test = X[['shop_area_sq_ft', 'unique_customers', 'transactions', 'unique_items', 'items']].iloc[train_idx], X[['shop_area_sq_ft', 'unique_customers', 'transactions', 'unique_items', 'items']].iloc[test_idx], y.iloc[train_idx], y.iloc[test_idx]\n",
        "  score_arr.append(get_score(xgb.XGBClassifier(n_estimators=200, objective='multi:softprob', tree_method='hist', eta=0.1, max_depth=5), X_train, X_test, y_train, y_test))\n",
        "print(score_arr)\n",
        "print(sum(score_arr)/splits)"
      ],
      "metadata": {
        "colab": {
          "base_uri": "https://localhost:8080/"
        },
        "id": "c8S3rWMuUQzD",
        "outputId": "e0028a7d-2f81-40d4-93a6-598845291f81"
      },
      "execution_count": 47,
      "outputs": [
        {
          "output_type": "stream",
          "name": "stdout",
          "text": [
            "[0.75, 0.7, 0.5, 0.55, 0.6]\n",
            "0.62\n"
          ]
        }
      ]
    },
    {
      "cell_type": "code",
      "source": [
        "score_arr = []\n",
        "splits = 3\n",
        "kf = StratifiedKFold(n_splits=splits, shuffle=True, random_state=10)\n",
        "for train_idx, test_idx in kf.split(X,y):\n",
        "  X_train, X_test, y_train, y_test = X[['shop_area_sq_ft', 'unique_customers', 'transactions', 'unique_items', 'items']].iloc[train_idx], X[['shop_area_sq_ft', 'unique_customers', 'transactions', 'unique_items', 'items']].iloc[test_idx], y.iloc[train_idx], y.iloc[test_idx]\n",
        "  score_arr.append(get_score_train(LogisticRegression(max_iter = 1000), X_train, X_test, y_train, y_test))\n",
        "print(score_arr)\n",
        "print(\"test score:\", sum([x[1] for x in score_arr])/splits)\n",
        "print(\"train_score:\", sum([x[0] for x in score_arr])/splits)"
      ],
      "metadata": {
        "colab": {
          "base_uri": "https://localhost:8080/"
        },
        "id": "dVB0nAcehoKz",
        "outputId": "9fe9fde7-3e33-4f65-a99e-0624b6960d03"
      },
      "execution_count": 61,
      "outputs": [
        {
          "output_type": "stream",
          "name": "stdout",
          "text": [
            "[(0.7424242424242424, 0.5882352941176471), (0.7014925373134329, 0.696969696969697), (0.6567164179104478, 0.7272727272727273)]\n",
            "test score: 0.6708259061200238\n",
            "train_score: 0.7002110658827077\n"
          ]
        }
      ]
    },
    {
      "cell_type": "code",
      "source": [
        "lr = LogisticRegression(max_iter = 1000)\n",
        "lr.fit(X[['shop_area_sq_ft', 'unique_customers', 'transactions', 'unique_items', 'items']],y)\n",
        "\n",
        "X_test = empty_profiles.drop(columns=[\"shop_id\", \"shop_profile\"])\n",
        "\n",
        "y_test = lr.predict(X_test[['shop_area_sq_ft', 'unique_customers', 'transactions', 'unique_items', 'items']])\n",
        "\n",
        "test_preds = pd.DataFrame({'shop_id':empty_profiles['shop_id'],'shop_profile':y_test})"
      ],
      "metadata": {
        "id": "hds-GnIwnEnN"
      },
      "execution_count": 67,
      "outputs": []
    },
    {
      "cell_type": "code",
      "source": [
        "len(test_preds)"
      ],
      "metadata": {
        "colab": {
          "base_uri": "https://localhost:8080/"
        },
        "id": "zKlRAN8in40p",
        "outputId": "572a3d75-f2ba-45e3-8770-47396195e9d4"
      },
      "execution_count": 63,
      "outputs": [
        {
          "output_type": "execute_result",
          "data": {
            "text/plain": [
              "24"
            ]
          },
          "metadata": {},
          "execution_count": 63
        }
      ]
    },
    {
      "cell_type": "code",
      "source": [
        "test_preds[\"shop_profile\"] = test_preds[\"shop_profile\"].replace({2: \"High\", 1:\"Moderate\", 0:\"Low\"})"
      ],
      "metadata": {
        "id": "jXuQTh8xn861"
      },
      "execution_count": 70,
      "outputs": []
    },
    {
      "cell_type": "code",
      "source": [
        "filename = 'DataStorm087_Day1_2.csv'\n",
        "test_preds.to_csv(filename,index=False)"
      ],
      "metadata": {
        "id": "P4H819YhoAAN"
      },
      "execution_count": 71,
      "outputs": []
    }
  ]
}